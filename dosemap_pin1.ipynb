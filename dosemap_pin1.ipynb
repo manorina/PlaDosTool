{
 "metadata": {
  "name": "",
  "signature": "sha256:d1709b576d6e63638ff059a8cd7f3cdc12e58abc08c5939c2362ae8ae7974dd2"
 },
 "nbformat": 3,
 "nbformat_minor": 0,
 "worksheets": [
  {
   "cells": [
    {
     "cell_type": "code",
     "collapsed": false,
     "input": [
      "import csv\n"
     ],
     "language": "python",
     "metadata": {},
     "outputs": [],
     "prompt_number": 1
    },
    {
     "cell_type": "code",
     "collapsed": false,
     "input": [
      "my_folder = '/home/mpre/tmp_Pinn_dose_maps/Robbie_Donald_20150327/Planned'\n"
     ],
     "language": "python",
     "metadata": {},
     "outputs": [],
     "prompt_number": 9
    },
    {
     "cell_type": "code",
     "collapsed": false,
     "input": [
      "my_folder\n"
     ],
     "language": "python",
     "metadata": {},
     "outputs": [
      {
       "metadata": {},
       "output_type": "pyout",
       "prompt_number": 10,
       "text": [
        "'/home/mpre/tmp_Pinn_dose_maps/Robbie_Donald_20150327/Planned'"
       ]
      }
     ],
     "prompt_number": 10
    },
    {
     "cell_type": "code",
     "collapsed": false,
     "input": [
      "import numpy as np"
     ],
     "language": "python",
     "metadata": {},
     "outputs": [],
     "prompt_number": 11
    },
    {
     "cell_type": "code",
     "collapsed": false,
     "input": [
      "blah = np.genfromtxt(my_folder+'/1_160', delimiter=',',skiprows=11, missing_values='')\n"
     ],
     "language": "python",
     "metadata": {},
     "outputs": [],
     "prompt_number": 32
    },
    {
     "cell_type": "code",
     "collapsed": false,
     "input": [
      "blah\n"
     ],
     "language": "python",
     "metadata": {},
     "outputs": [
      {
       "metadata": {},
       "output_type": "pyout",
       "prompt_number": 33,
       "text": [
        "array([[             nan,  -1.24000000e+01,  -1.22000000e+01, ...,\n",
        "          1.22000000e+01,   1.24000000e+01,              nan],\n",
        "       [ -9.40000000e+00,   3.00000000e-03,   3.00000000e-03, ...,\n",
        "          2.00000000e-03,   2.00000000e-03,              nan],\n",
        "       [ -9.20000000e+00,   3.00000000e-03,   3.00000000e-03, ...,\n",
        "          2.00000000e-03,   2.00000000e-03,              nan],\n",
        "       ..., \n",
        "       [  9.00000000e+00,   9.00000000e-03,   9.00000000e-03, ...,\n",
        "          3.00000000e-03,   2.00000000e-03,              nan],\n",
        "       [  9.20000000e+00,   8.00000000e-03,   9.00000000e-03, ...,\n",
        "          3.00000000e-03,   2.00000000e-03,              nan],\n",
        "       [  9.40000000e+00,   7.00000000e-03,   8.00000000e-03, ...,\n",
        "          3.00000000e-03,   2.00000000e-03,              nan]])"
       ]
      }
     ],
     "prompt_number": 33
    },
    {
     "cell_type": "code",
     "collapsed": false,
     "input": [
      "y_pos = blah[1:,0]\n"
     ],
     "language": "python",
     "metadata": {},
     "outputs": [],
     "prompt_number": 34
    },
    {
     "cell_type": "code",
     "collapsed": false,
     "input": [
      "y_pos\n",
      "\n"
     ],
     "language": "python",
     "metadata": {},
     "outputs": [
      {
       "metadata": {},
       "output_type": "pyout",
       "prompt_number": 35,
       "text": [
        "array([-9.4, -9.2, -9. , -8.8, -8.6, -8.4, -8.2, -8. , -7.8, -7.6, -7.4,\n",
        "       -7.2, -7. , -6.8, -6.6, -6.4, -6.2, -6. , -5.8, -5.6, -5.4, -5.2,\n",
        "       -5. , -4.8, -4.6, -4.4, -4.2, -4. , -3.8, -3.6, -3.4, -3.2, -3. ,\n",
        "       -2.8, -2.6, -2.4, -2.2, -2. , -1.8, -1.6, -1.4, -1.2, -1. , -0.8,\n",
        "       -0.6, -0.4, -0.2,  0. ,  0.2,  0.4,  0.6,  0.8,  1. ,  1.2,  1.4,\n",
        "        1.6,  1.8,  2. ,  2.2,  2.4,  2.6,  2.8,  3. ,  3.2,  3.4,  3.6,\n",
        "        3.8,  4. ,  4.2,  4.4,  4.6,  4.8,  5. ,  5.2,  5.4,  5.6,  5.8,\n",
        "        6. ,  6.2,  6.4,  6.6,  6.8,  7. ,  7.2,  7.4,  7.6,  7.8,  8. ,\n",
        "        8.2,  8.4,  8.6,  8.8,  9. ,  9.2,  9.4])"
       ]
      }
     ],
     "prompt_number": 35
    },
    {
     "cell_type": "code",
     "collapsed": false,
     "input": [
      "x_pos = blah[0, 1:-1]"
     ],
     "language": "python",
     "metadata": {},
     "outputs": [],
     "prompt_number": 36
    },
    {
     "cell_type": "code",
     "collapsed": true,
     "input": [
      "x_pos"
     ],
     "language": "python",
     "metadata": {},
     "outputs": [
      {
       "metadata": {},
       "output_type": "pyout",
       "prompt_number": 37,
       "text": [
        "array([-12.4, -12.2, -12. , -11.8, -11.6, -11.4, -11.2, -11. , -10.8,\n",
        "       -10.6, -10.4, -10.2, -10. ,  -9.8,  -9.6,  -9.4,  -9.2,  -9. ,\n",
        "        -8.8,  -8.6,  -8.4,  -8.2,  -8. ,  -7.8,  -7.6,  -7.4,  -7.2,\n",
        "        -7. ,  -6.8,  -6.6,  -6.4,  -6.2,  -6. ,  -5.8,  -5.6,  -5.4,\n",
        "        -5.2,  -5. ,  -4.8,  -4.6,  -4.4,  -4.2,  -4. ,  -3.8,  -3.6,\n",
        "        -3.4,  -3.2,  -3. ,  -2.8,  -2.6,  -2.4,  -2.2,  -2. ,  -1.8,\n",
        "        -1.6,  -1.4,  -1.2,  -1. ,  -0.8,  -0.6,  -0.4,  -0.2,   0. ,\n",
        "         0.2,   0.4,   0.6,   0.8,   1. ,   1.2,   1.4,   1.6,   1.8,\n",
        "         2. ,   2.2,   2.4,   2.6,   2.8,   3. ,   3.2,   3.4,   3.6,\n",
        "         3.8,   4. ,   4.2,   4.4,   4.6,   4.8,   5. ,   5.2,   5.4,\n",
        "         5.6,   5.8,   6. ,   6.2,   6.4,   6.6,   6.8,   7. ,   7.2,\n",
        "         7.4,   7.6,   7.8,   8. ,   8.2,   8.4,   8.6,   8.8,   9. ,\n",
        "         9.2,   9.4,   9.6,   9.8,  10. ,  10.2,  10.4,  10.6,  10.8,\n",
        "        11. ,  11.2,  11.4,  11.6,  11.8,  12. ,  12.2,  12.4])"
       ]
      }
     ],
     "prompt_number": 37
    },
    {
     "cell_type": "code",
     "collapsed": false,
     "input": [
      "blah3 = blah[1:, 1:-1]\n"
     ],
     "language": "python",
     "metadata": {},
     "outputs": [],
     "prompt_number": 38
    },
    {
     "cell_type": "code",
     "collapsed": false,
     "input": [
      "blah3.shape\n"
     ],
     "language": "python",
     "metadata": {},
     "outputs": [
      {
       "metadata": {},
       "output_type": "pyout",
       "prompt_number": 39,
       "text": [
        "(95, 125)"
       ]
      }
     ],
     "prompt_number": 39
    },
    {
     "cell_type": "code",
     "collapsed": false,
     "input": [
      "%matplotlib inline"
     ],
     "language": "python",
     "metadata": {},
     "outputs": [],
     "prompt_number": 40
    },
    {
     "cell_type": "code",
     "collapsed": false,
     "input": [
      "import matplotlib as ml\n",
      "import matplotlib.pyplot as plt\n",
      "\n",
      "\n"
     ],
     "language": "python",
     "metadata": {},
     "outputs": [],
     "prompt_number": 41
    },
    {
     "cell_type": "code",
     "collapsed": false,
     "input": [
      "fig = plt.figure(figsize=(6, 3.2))\n",
      "\n",
      "ax = fig.add_subplot(111)\n",
      "ax.set_title('colorMap')\n",
      "plt.imshow(blah3)"
     ],
     "language": "python",
     "metadata": {},
     "outputs": [
      {
       "metadata": {},
       "output_type": "pyout",
       "prompt_number": 45,
       "text": [
        "<matplotlib.image.AxesImage at 0x7f6726591550>"
       ]
      },
      {
       "metadata": {},
       "output_type": "display_data",
       "png": "[encoded data removed]",
       "text": [
        "<matplotlib.figure.Figure at 0x7f672661c2e8>"
       ]
      }
     ],
     "prompt_number": 45
    },
    {
     "cell_type": "code",
     "collapsed": false,
     "input": [
      "blah3[30, 90]"
     ],
     "language": "python",
     "metadata": {},
     "outputs": [
      {
       "metadata": {},
       "output_type": "pyout",
       "prompt_number": 46,
       "text": [
        "0.29099999999999998"
       ]
      }
     ],
     "prompt_number": 46
    },
    {
     "cell_type": "code",
     "collapsed": false,
     "input": [
      "max(blah3)"
     ],
     "language": "python",
     "metadata": {},
     "outputs": [
      {
       "ename": "ValueError",
       "evalue": "The truth value of an array with more than one element is ambiguous. Use a.any() or a.all()",
       "output_type": "pyerr",
       "traceback": [
        "\u001b[1;31m---------------------------------------------------------------------------\u001b[0m\n\u001b[1;31mValueError\u001b[0m                                Traceback (most recent call last)",
        "\u001b[1;32m<ipython-input-47-29e558208807>\u001b[0m in \u001b[0;36m<module>\u001b[1;34m()\u001b[0m\n\u001b[1;32m----> 1\u001b[1;33m \u001b[0mmax\u001b[0m\u001b[1;33m(\u001b[0m\u001b[0mblah3\u001b[0m\u001b[1;33m)\u001b[0m\u001b[1;33m\u001b[0m\u001b[0m\n\u001b[0m",
        "\u001b[1;31mValueError\u001b[0m: The truth value of an array with more than one element is ambiguous. Use a.any() or a.all()"
       ]
      }
     ],
     "prompt_number": 47
    },
    {
     "cell_type": "code",
     "collapsed": false,
     "input": [
      "len(y_pos)\n"
     ],
     "language": "python",
     "metadata": {},
     "outputs": [
      {
       "metadata": {},
       "output_type": "pyout",
       "prompt_number": 25,
       "text": [
        "105"
       ]
      }
     ],
     "prompt_number": 25
    },
    {
     "cell_type": "code",
     "collapsed": false,
     "input": [
      "blah3.shape"
     ],
     "language": "python",
     "metadata": {},
     "outputs": [
      {
       "metadata": {},
       "output_type": "pyout",
       "prompt_number": 26,
       "text": [
        "(105, 127)"
       ]
      }
     ],
     "prompt_number": 26
    },
    {
     "cell_type": "code",
     "collapsed": false,
     "input": [
      "my_test = interpl.RectBivariateSpline(y_pos, x_pos, blah3)"
     ],
     "language": "python",
     "metadata": {},
     "outputs": [],
     "prompt_number": 27
    },
    {
     "cell_type": "code",
     "collapsed": false,
     "input": [
      "type(my_test)"
     ],
     "language": "python",
     "metadata": {},
     "outputs": [
      {
       "metadata": {},
       "output_type": "pyout",
       "prompt_number": 28,
       "text": [
        "scipy.interpolate.fitpack2.RectBivariateSpline"
       ]
      }
     ],
     "prompt_number": 28
    },
    {
     "cell_type": "code",
     "collapsed": false,
     "input": [
      "my_test(-0.1,-0.1)"
     ],
     "language": "python",
     "metadata": {},
     "outputs": [
      {
       "metadata": {},
       "output_type": "pyout",
       "prompt_number": 29,
       "text": [
        "array([[ 0.20052939]])"
       ]
      }
     ],
     "prompt_number": 29
    },
    {
     "cell_type": "code",
     "collapsed": false,
     "input": [
      "my_test(-9.72,-4.112)"
     ],
     "language": "python",
     "metadata": {},
     "outputs": [
      {
       "metadata": {},
       "output_type": "pyout",
       "prompt_number": 30,
       "text": [
        "array([[ 0.01483708]])"
       ]
      }
     ],
     "prompt_number": 30
    },
    {
     "cell_type": "code",
     "collapsed": false,
     "input": [
      "my_test([-10.0,-9.78,-9.01], [0.2,1.0, 4.0])"
     ],
     "language": "python",
     "metadata": {},
     "outputs": [
      {
       "metadata": {},
       "output_type": "pyout",
       "prompt_number": 31,
       "text": [
        "array([[ 0.01      ,  0.009     ,  0.006     ],\n",
        "       [ 0.01004644,  0.00904814,  0.00606734],\n",
        "       [ 0.01394784,  0.01295004,  0.0079876 ]])"
       ]
      }
     ],
     "prompt_number": 31
    },
    {
     "cell_type": "code",
     "collapsed": false,
     "input": [],
     "language": "python",
     "metadata": {},
     "outputs": []
    }
   ],
   "metadata": {}
  }
 ]
}