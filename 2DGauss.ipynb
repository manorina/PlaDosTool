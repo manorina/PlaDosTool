{
 "metadata": {
  "name": "",
  "signature": "sha256:0ab238a19caeaa2979f2a09e16198fa711b84269a6cb426887d60d0544cae8eb"
 },
 "nbformat": 3,
 "nbformat_minor": 0,
 "worksheets": [
  {
   "cells": [
    {
     "cell_type": "code",
     "collapsed": false,
     "input": [
      "import numpy as np\n",
      "\n",
      "def gauss2D(shape=(3,3),sigma=0.5):\n",
      "    \"\"\"\n",
      "    2D gaussian mask - should give the same result as MATLAB's\n",
      "    fspecial('gaussian',[shape],[sigma])\n",
      "    \"\"\"\n",
      "    m,n = [(ss-1.)/2. for ss in shape]\n",
      "    y,x = np.ogrid[-m:m+1,-n:n+1]\n",
      "    h = np.exp( -(x*x + y*y) / (2.*sigma*sigma) )\n",
      "    h[ h < np.finfo(h.dtype).eps*h.max() ] = 0\n",
      "    sumh = h.sum()\n",
      "    if sumh != 0:\n",
      "        h /= sumh\n",
      "    return h\n"
     ],
     "language": "python",
     "metadata": {},
     "outputs": [],
     "prompt_number": 1
    },
    {
     "cell_type": "code",
     "collapsed": false,
     "input": [
      "gauss2D((5,5), 5)"
     ],
     "language": "python",
     "metadata": {},
     "outputs": [
      {
       "metadata": {},
       "output_type": "pyout",
       "prompt_number": 2,
       "text": [
        "array([[ 0.03688345,  0.03916419,  0.03995536,  0.03916419,  0.03688345],\n",
        "       [ 0.03916419,  0.04158597,  0.04242606,  0.04158597,  0.03916419],\n",
        "       [ 0.03995536,  0.04242606,  0.04328312,  0.04242606,  0.03995536],\n",
        "       [ 0.03916419,  0.04158597,  0.04242606,  0.04158597,  0.03916419],\n",
        "       [ 0.03688345,  0.03916419,  0.03995536,  0.03916419,  0.03688345]])"
       ]
      }
     ],
     "prompt_number": 2
    },
    {
     "cell_type": "code",
     "collapsed": false,
     "input": [],
     "language": "python",
     "metadata": {},
     "outputs": []
    }
   ],
   "metadata": {}
  }
 ]
}